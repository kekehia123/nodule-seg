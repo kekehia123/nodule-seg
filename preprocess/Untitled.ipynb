{
 "cells": [
  {
   "cell_type": "code",
   "execution_count": 1,
   "metadata": {
    "collapsed": true
   },
   "outputs": [],
   "source": [
    "import dicom\n",
    "import os"
   ]
  },
  {
   "cell_type": "code",
   "execution_count": 9,
   "metadata": {
    "collapsed": false
   },
   "outputs": [],
   "source": [
    "os.chdir('H:/stage2/0ba7cbccf5668379da4a78f1b12e3211')"
   ]
  },
  {
   "cell_type": "code",
   "execution_count": 10,
   "metadata": {
    "collapsed": false
   },
   "outputs": [
    {
     "data": {
      "text/plain": [
       "(0008, 0005) Specific Character Set              CS: 'ISO_IR 100'\n",
       "(0008, 0016) SOP Class UID                       UI: CT Image Storage\n",
       "(0008, 0018) SOP Instance UID                    UI: 1.3.6.1.4.1.14519.5.2.1.1246.1600.261492686479613330512155043742\n",
       "(0008, 0060) Modality                            CS: 'CT'\n",
       "(0008, 103e) Series Description                  LO: 'Axial'\n",
       "(0010, 0010) Patient's Name                      PN: '0ba7cbccf5668379da4a78f1b12e3211'\n",
       "(0010, 0020) Patient ID                          LO: '0ba7cbccf5668379da4a78f1b12e3211'\n",
       "(0010, 0030) Patient's Birth Date                DA: '19000101'\n",
       "(0018, 0060) KVP                                 DS: ''\n",
       "(0020, 000d) Study Instance UID                  UI: 2.25.10905952308567021672432308637584011087696532308606953388830\n",
       "(0020, 000e) Series Instance UID                 UI: 2.25.12299206045061003906656331864419365413866252448676775172973\n",
       "(0020, 0011) Series Number                       IS: '3'\n",
       "(0020, 0012) Acquisition Number                  IS: '2'\n",
       "(0020, 0013) Instance Number                     IS: '83'\n",
       "(0020, 0032) Image Position (Patient)            DS: ['-200.6484375', '-352.6484375', '271']\n",
       "(0020, 0037) Image Orientation (Patient)         DS: ['1', '0', '0', '0', '1', '0']\n",
       "(0020, 0052) Frame of Reference UID              UI: 2.25.91713842452896397210579982636431780558420134169263650048205\n",
       "(0020, 1040) Position Reference Indicator        LO: ''\n",
       "(0020, 1041) Slice Location                      DS: '-271'\n",
       "(0028, 0002) Samples per Pixel                   US: 1\n",
       "(0028, 0004) Photometric Interpretation          CS: 'MONOCHROME2'\n",
       "(0028, 0010) Rows                                US: 512\n",
       "(0028, 0011) Columns                             US: 512\n",
       "(0028, 0030) Pixel Spacing                       DS: ['0.703125', '0.703125']\n",
       "(0028, 0100) Bits Allocated                      US: 16\n",
       "(0028, 0101) Bits Stored                         US: 12\n",
       "(0028, 0102) High Bit                            US: 11\n",
       "(0028, 0103) Pixel Representation                US: 0\n",
       "(0028, 0303) Longitudinal Temporal Information M CS: 'MODIFIED'\n",
       "(0028, 1050) Window Center                       DS: ['-600', '50']\n",
       "(0028, 1051) Window Width                        DS: ['1200', '350']\n",
       "(0028, 1052) Rescale Intercept                   DS: '-1024'\n",
       "(0028, 1053) Rescale Slope                       DS: '1'\n",
       "(0028, 1054) Rescale Type                        LO: 'HU'\n",
       "(0028, 2110) Lossy Image Compression             CS: '00'\n",
       "(7fe0, 0010) Pixel Data                          OW: Array of 524288 bytes"
      ]
     },
     "execution_count": 10,
     "metadata": {},
     "output_type": "execute_result"
    }
   ],
   "source": [
    "dicom.read_file('2a5509f86090be6be20ab979b07db544.dcm')"
   ]
  },
  {
   "cell_type": "code",
   "execution_count": null,
   "metadata": {
    "collapsed": true
   },
   "outputs": [],
   "source": []
  }
 ],
 "metadata": {
  "anaconda-cloud": {},
  "kernelspec": {
   "display_name": "Python [conda root]",
   "language": "python",
   "name": "conda-root-py"
  },
  "language_info": {
   "codemirror_mode": {
    "name": "ipython",
    "version": 3
   },
   "file_extension": ".py",
   "mimetype": "text/x-python",
   "name": "python",
   "nbconvert_exporter": "python",
   "pygments_lexer": "ipython3",
   "version": "3.5.2"
  }
 },
 "nbformat": 4,
 "nbformat_minor": 1
}
