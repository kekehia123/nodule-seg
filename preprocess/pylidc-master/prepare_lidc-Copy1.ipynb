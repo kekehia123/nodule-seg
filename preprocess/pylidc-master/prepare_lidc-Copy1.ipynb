{
 "cells": [
  {
   "cell_type": "code",
   "execution_count": 36,
   "metadata": {
    "collapsed": false
   },
   "outputs": [],
   "source": [
    "import pylidc as pl\n",
    "from pylidc.Annotation import feature_names as fnames\n",
    "import numpy as np\n",
    "import os\n",
    "import csv\n",
    "import matplotlib.pyplot as plt\n",
    "\n",
    "config = {}\n",
    "config['savepath'] = '/home/shenxk/LIDC/prepared_data'\n",
    "\n",
    "os.chdir(config['savepath'])"
   ]
  },
  {
   "cell_type": "raw",
   "metadata": {
    "collapsed": false
   },
   "source": [
    "all_scans = pl.query(pl.Scan)\n",
    "savepath = config['savepath']\n",
    "num = 2\n",
    "#num = scan.count()\n",
    "with open('names.csv', 'w') as f:\n",
    "    writer = csv.writer(f)\n",
    "    writer.writerow(['short_name','origin_path'])\n",
    "    \n",
    "for id in range(num):\n",
    "    images = all_scans[id].load_all_dicom_images()\n",
    "    first_image = images[0].pixel_array\n",
    "    [width, height] = first_image.shape\n",
    "    num_slices = len(images)\n",
    "    print(num_slices)\n",
    "    images_array = np.zeros((num_slices, width, height))\n",
    "    for i in range(num_slices):\n",
    "        images_array[i,:,:] = images[i].pixel_array\n",
    "    \n",
    "    path = all_scans[id].get_path_to_dicom_files()\n",
    "    shortname = '0'*(4-len(str(id+1)))+str(id+1)\n",
    "    np.save(os.path.join(savepath, shortname+'.npy'), images_array)\n",
    "\n",
    "    with open('names.csv', 'a') as f:\n",
    "        \n",
    "        #fieldnames = ['short_name', 'origin_path']\n",
    "        #writer = csv.DictWriter(f, fieldnames=fieldnames)\n",
    "        #writer.writeheader()\n",
    "        writer = csv.writer(f)\n",
    "        writer.writerow([shortname, path])\n"
   ]
  },
  {
   "cell_type": "code",
   "execution_count": null,
   "metadata": {
    "collapsed": true
   },
   "outputs": [],
   "source": [
    "all_anns = pl.query(pl.Annotation).join(pl.Scan)\n",
    "print(all_anns.count())\n",
    "\n",
    "anns_2 = all_anns.filter(pl.Annotation.scan_id==2)\n",
    "print(anns_2[0])\n",
    "print(anns_2.count())\n",
    "\n",
    "all_scans = pl.query(pl.Scan)\n",
    "images = all_scans[1]\n",
    "anns_2_clustered = images.cluster_annotations()\n",
    "#print(len(anns_2_clustered))\n",
    "#print(len(anns_2_clustered[0]))\n",
    "\n",
    "#anns_2[0].contours_to_matrix"
   ]
  },
  {
   "cell_type": "raw",
   "metadata": {
    "collapsed": false
   },
   "source": [
    "anns_set = anns_2[0]._as_set()\n",
    "anns_list = [i for i in anns_set]\n",
    "print(len(anns_list))\n",
    "#print(anns_list)\n",
    "print(anns_list[0])"
   ]
  },
  {
   "cell_type": "code",
   "execution_count": null,
   "metadata": {
    "collapsed": true
   },
   "outputs": [],
   "source": [
    "images = anns_2[0].scan.load_all_dicom_images()\n",
    "# Preload contours and sort them by z pos.\n",
    "contours = sorted(anns_2[0].contours, key=lambda c: c.image_z_position)\n",
    "fnames = anns_2[0].scan.sorted_dicom_file_names.split(',')\n",
    "index_of_contour = [fnames.index(c.dicom_file_name) for c in contours]\n",
    "print(len(fnames))\n",
    "print(index_of_contour)"
   ]
  }
 ],
 "metadata": {
  "anaconda-cloud": {},
  "kernelspec": {
   "display_name": "Python [conda root]",
   "language": "python",
   "name": "conda-root-py"
  },
  "language_info": {
   "codemirror_mode": {
    "name": "ipython",
    "version": 3
   },
   "file_extension": ".py",
   "mimetype": "text/x-python",
   "name": "python",
   "nbconvert_exporter": "python",
   "pygments_lexer": "ipython3",
   "version": "3.5.2"
  }
 },
 "nbformat": 4,
 "nbformat_minor": 1
}
