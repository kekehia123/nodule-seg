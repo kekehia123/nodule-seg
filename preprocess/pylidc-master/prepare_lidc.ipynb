{
 "cells": [
  {
   "cell_type": "code",
   "execution_count": 36,
   "metadata": {
    "collapsed": false
   },
   "outputs": [],
   "source": [
    "import pylidc as pl\n",
    "from pylidc.Annotation import feature_names as fnames\n",
    "import numpy as np\n",
    "import os\n",
    "import csv\n",
    "\n",
    "config = {}\n",
    "config['savepath'] = '/home/shenxk/LIDC/prepared_data'"
   ]
  },
  {
   "cell_type": "code",
   "execution_count": 39,
   "metadata": {
    "collapsed": false
   },
   "outputs": [
    {
     "name": "stdout",
     "output_type": "stream",
     "text": [
      "Loading dicom files ... This may take a moment.\n"
     ]
    },
    {
     "ename": "OSError",
     "evalue": "\n\n`.pylidcrc` configuration file does not exist or path is not set. CT images will not be viewable.\nThe file, `.pylidcrc`, should exist in C:\\Users\\Xinke. This file should have format:\n\n[dicom]\npath = /path/to/dicom/data/LIDC-IDRI\nwarn = True\n\nSet `warn` to `False` to suppress this message.\n",
     "output_type": "error",
     "traceback": [
      "\u001b[0;31m---------------------------------------------------------------------------\u001b[0m",
      "\u001b[0;31mOSError\u001b[0m                                   Traceback (most recent call last)",
      "\u001b[0;32m<ipython-input-39-5070178c6aa9>\u001b[0m in \u001b[0;36m<module>\u001b[0;34m()\u001b[0m\n\u001b[1;32m      9\u001b[0m \u001b[1;33m\u001b[0m\u001b[0m\n\u001b[1;32m     10\u001b[0m \u001b[1;32mfor\u001b[0m \u001b[0mid\u001b[0m \u001b[1;32min\u001b[0m \u001b[0mrange\u001b[0m\u001b[1;33m(\u001b[0m\u001b[0mnum\u001b[0m\u001b[1;33m)\u001b[0m\u001b[1;33m:\u001b[0m\u001b[1;33m\u001b[0m\u001b[0m\n\u001b[0;32m---> 11\u001b[0;31m     \u001b[0mimages\u001b[0m \u001b[1;33m=\u001b[0m \u001b[0mall_scans\u001b[0m\u001b[1;33m[\u001b[0m\u001b[0mid\u001b[0m\u001b[1;33m]\u001b[0m\u001b[1;33m.\u001b[0m\u001b[0mload_all_dicom_images\u001b[0m\u001b[1;33m(\u001b[0m\u001b[1;33m)\u001b[0m\u001b[1;33m\u001b[0m\u001b[0m\n\u001b[0m\u001b[1;32m     12\u001b[0m     \u001b[0mpath\u001b[0m \u001b[1;33m=\u001b[0m \u001b[0mall_scans\u001b[0m\u001b[1;33m[\u001b[0m\u001b[0mid\u001b[0m\u001b[1;33m]\u001b[0m\u001b[1;33m.\u001b[0m\u001b[0mget_path_to_dicom_files\u001b[0m\u001b[1;33m(\u001b[0m\u001b[1;33m)\u001b[0m\u001b[1;33m\u001b[0m\u001b[0m\n\u001b[1;32m     13\u001b[0m     \u001b[0mshortname\u001b[0m \u001b[1;33m=\u001b[0m \u001b[1;34m'0'\u001b[0m\u001b[1;33m*\u001b[0m\u001b[1;33m(\u001b[0m\u001b[1;36m4\u001b[0m\u001b[1;33m-\u001b[0m\u001b[0mlen\u001b[0m\u001b[1;33m(\u001b[0m\u001b[0mstr\u001b[0m\u001b[1;33m(\u001b[0m\u001b[0mid\u001b[0m\u001b[1;33m)\u001b[0m\u001b[1;33m)\u001b[0m\u001b[1;33m)\u001b[0m\u001b[1;33m+\u001b[0m\u001b[0mstr\u001b[0m\u001b[1;33m(\u001b[0m\u001b[0mid\u001b[0m\u001b[1;33m)\u001b[0m\u001b[1;33m\u001b[0m\u001b[0m\n",
      "\u001b[0;32mE:\\Documents\\1资料\\Brainmatrix\\智能医疗\\结节分割\\preprocess\\pylidc-master\\pylidc\\Scan.py\u001b[0m in \u001b[0;36mload_all_dicom_images\u001b[0;34m(self, verbose)\u001b[0m\n\u001b[1;32m    289\u001b[0m             \u001b[1;33m>>\u001b[0m\u001b[1;33m>\u001b[0m\u001b[1;33m\u001b[0m\u001b[0m\n\u001b[1;32m    290\u001b[0m             \u001b[1;33m>>\u001b[0m\u001b[1;33m>\u001b[0m \u001b[1;32mimport\u001b[0m \u001b[0mmatplotlib\u001b[0m\u001b[1;33m.\u001b[0m\u001b[0mpyplot\u001b[0m \u001b[1;32mas\u001b[0m \u001b[0mplt\u001b[0m\u001b[1;33m\u001b[0m\u001b[0m\n\u001b[0;32m--> 291\u001b[0;31m             \u001b[1;33m>>\u001b[0m\u001b[1;33m>\u001b[0m \u001b[0mplt\u001b[0m\u001b[1;33m.\u001b[0m\u001b[0mimshow\u001b[0m\u001b[1;33m(\u001b[0m \u001b[0mimages\u001b[0m\u001b[1;33m[\u001b[0m\u001b[1;36m0\u001b[0m\u001b[1;33m]\u001b[0m\u001b[1;33m.\u001b[0m\u001b[0mpixel_array\u001b[0m\u001b[1;33m,\u001b[0m \u001b[0mcmap\u001b[0m\u001b[1;33m=\u001b[0m\u001b[0mplt\u001b[0m\u001b[1;33m.\u001b[0m\u001b[0mcm\u001b[0m\u001b[1;33m.\u001b[0m\u001b[0mgray\u001b[0m \u001b[1;33m)\u001b[0m\u001b[1;33m\u001b[0m\u001b[0m\n\u001b[0m\u001b[1;32m    292\u001b[0m             \u001b[1;33m>>\u001b[0m\u001b[1;33m>\u001b[0m \u001b[0mplt\u001b[0m\u001b[1;33m.\u001b[0m\u001b[0mshow\u001b[0m\u001b[1;33m(\u001b[0m\u001b[1;33m)\u001b[0m\u001b[1;33m\u001b[0m\u001b[0m\n\u001b[1;32m    293\u001b[0m         \"\"\"\n",
      "\u001b[0;32mE:\\Documents\\1资料\\Brainmatrix\\智能医疗\\结节分割\\preprocess\\pylidc-master\\pylidc\\Scan.py\u001b[0m in \u001b[0;36mget_path_to_dicom_files\u001b[0;34m(self, checkpath)\u001b[0m\n\u001b[1;32m    138\u001b[0m         \u001b[0mExample\u001b[0m\u001b[1;33m:\u001b[0m\u001b[1;33m\u001b[0m\u001b[0m\n\u001b[1;32m    139\u001b[0m             \u001b[1;33m>>\u001b[0m\u001b[1;33m>\u001b[0m \u001b[0mscan\u001b[0m \u001b[1;33m=\u001b[0m \u001b[0mpl\u001b[0m\u001b[1;33m.\u001b[0m\u001b[0mquery\u001b[0m\u001b[1;33m(\u001b[0m\u001b[0mpl\u001b[0m\u001b[1;33m.\u001b[0m\u001b[0mScan\u001b[0m\u001b[1;33m)\u001b[0m\u001b[1;33m.\u001b[0m\u001b[0mfirst\u001b[0m\u001b[1;33m(\u001b[0m\u001b[1;33m)\u001b[0m\u001b[1;33m\u001b[0m\u001b[0m\n\u001b[0;32m--> 140\u001b[0;31m             \u001b[1;33m>>\u001b[0m\u001b[1;33m>\u001b[0m \u001b[0mprint\u001b[0m\u001b[1;33m(\u001b[0m\u001b[0mscan\u001b[0m\u001b[1;33m.\u001b[0m\u001b[0mget_path_to_dicom_files\u001b[0m\u001b[1;33m(\u001b[0m\u001b[1;33m)\u001b[0m\u001b[1;33m)\u001b[0m\u001b[1;33m\u001b[0m\u001b[0m\n\u001b[0m\u001b[1;32m    141\u001b[0m             \u001b[1;33m>>\u001b[0m\u001b[1;33m>\u001b[0m \u001b[1;31m# => /data/storage/path/LIDC-IDRI/LIDC-IDRI-0078/1.3.6.1.4.1.14519.5.2.1.6279.6001.339170810277323131167631068432/1.3.6.1.4.1.14519.5.2.1.6279.6001.303494235102183795724852353824\u001b[0m\u001b[1;33m\u001b[0m\u001b[0m\n\u001b[1;32m    142\u001b[0m         \"\"\"\n",
      "\u001b[0;31mOSError\u001b[0m: \n\n`.pylidcrc` configuration file does not exist or path is not set. CT images will not be viewable.\nThe file, `.pylidcrc`, should exist in C:\\Users\\Xinke. This file should have format:\n\n[dicom]\npath = /path/to/dicom/data/LIDC-IDRI\nwarn = True\n\nSet `warn` to `False` to suppress this message.\n"
     ]
    }
   ],
   "source": [
    "all_scans = pl.query(pl.Scan)\n",
    "savepath = config['savepath']\n",
    "num = 2\n",
    "#num = scan.count()\n",
    "with open('names.csv', 'w') as f:\n",
    "    fieldnames = ['short_name', 'origin_path']\n",
    "    writer = csv.DictWriter(f, fieldnames=fieldnames)\n",
    "    writer.writeheader()\n",
    "    \n",
    "for id in range(num):\n",
    "    images = all_scans[id].load_all_dicom_images()\n",
    "    path = all_scans[id].get_path_to_dicom_files()\n",
    "    shortname = '0'*(4-len(str(id)))+str(id)\n",
    "    np.save(os.path.join(savepath, shortname+'.npy'), images)\n",
    "\n",
    "    with open('names.csv', 'w') as f:\n",
    "        writer = csv.writer(f)\n",
    "        writer.writerow({'short_name': shortname, 'origin_path': path})\n"
   ]
  },
  {
   "cell_type": "code",
   "execution_count": 31,
   "metadata": {
    "collapsed": false
   },
   "outputs": [
    {
     "ename": "OSError",
     "evalue": "\n\n`.pylidcrc` configuration file does not exist or path is not set. CT images will not be viewable.\nThe file, `.pylidcrc`, should exist in C:\\Users\\Xinke. This file should have format:\n\n[dicom]\npath = /path/to/dicom/data/LIDC-IDRI\nwarn = True\n\nSet `warn` to `False` to suppress this message.\n",
     "output_type": "error",
     "traceback": [
      "\u001b[0;31m---------------------------------------------------------------------------\u001b[0m",
      "\u001b[0;31mOSError\u001b[0m                                   Traceback (most recent call last)",
      "\u001b[0;32m<ipython-input-31-0a330ec6468a>\u001b[0m in \u001b[0;36m<module>\u001b[0;34m()\u001b[0m\n\u001b[0;32m----> 1\u001b[0;31m \u001b[0mpath\u001b[0m \u001b[1;33m=\u001b[0m \u001b[0mscan\u001b[0m\u001b[1;33m.\u001b[0m\u001b[0mget_path_to_dicom_files\u001b[0m\u001b[1;33m(\u001b[0m\u001b[1;33m)\u001b[0m\u001b[1;33m\u001b[0m\u001b[0m\n\u001b[0m\u001b[1;32m      2\u001b[0m \u001b[0marray\u001b[0m \u001b[1;33m=\u001b[0m \u001b[0mscan\u001b[0m\u001b[1;33m.\u001b[0m\u001b[0mload_all_dicom_images\u001b[0m\u001b[1;33m(\u001b[0m\u001b[1;33m)\u001b[0m\u001b[1;33m\u001b[0m\u001b[0m\n",
      "\u001b[0;32mE:\\Documents\\1资料\\Brainmatrix\\智能医疗\\结节分割\\preprocess\\pylidc-master\\pylidc\\Scan.py\u001b[0m in \u001b[0;36mget_path_to_dicom_files\u001b[0;34m(self, checkpath)\u001b[0m\n\u001b[1;32m    138\u001b[0m         \u001b[0mExample\u001b[0m\u001b[1;33m:\u001b[0m\u001b[1;33m\u001b[0m\u001b[0m\n\u001b[1;32m    139\u001b[0m             \u001b[1;33m>>\u001b[0m\u001b[1;33m>\u001b[0m \u001b[0mscan\u001b[0m \u001b[1;33m=\u001b[0m \u001b[0mpl\u001b[0m\u001b[1;33m.\u001b[0m\u001b[0mquery\u001b[0m\u001b[1;33m(\u001b[0m\u001b[0mpl\u001b[0m\u001b[1;33m.\u001b[0m\u001b[0mScan\u001b[0m\u001b[1;33m)\u001b[0m\u001b[1;33m.\u001b[0m\u001b[0mfirst\u001b[0m\u001b[1;33m(\u001b[0m\u001b[1;33m)\u001b[0m\u001b[1;33m\u001b[0m\u001b[0m\n\u001b[0;32m--> 140\u001b[0;31m             \u001b[1;33m>>\u001b[0m\u001b[1;33m>\u001b[0m \u001b[0mprint\u001b[0m\u001b[1;33m(\u001b[0m\u001b[0mscan\u001b[0m\u001b[1;33m.\u001b[0m\u001b[0mget_path_to_dicom_files\u001b[0m\u001b[1;33m(\u001b[0m\u001b[1;33m)\u001b[0m\u001b[1;33m)\u001b[0m\u001b[1;33m\u001b[0m\u001b[0m\n\u001b[0m\u001b[1;32m    141\u001b[0m             \u001b[1;33m>>\u001b[0m\u001b[1;33m>\u001b[0m \u001b[1;31m# => /data/storage/path/LIDC-IDRI/LIDC-IDRI-0078/1.3.6.1.4.1.14519.5.2.1.6279.6001.339170810277323131167631068432/1.3.6.1.4.1.14519.5.2.1.6279.6001.303494235102183795724852353824\u001b[0m\u001b[1;33m\u001b[0m\u001b[0m\n\u001b[1;32m    142\u001b[0m         \"\"\"\n",
      "\u001b[0;31mOSError\u001b[0m: \n\n`.pylidcrc` configuration file does not exist or path is not set. CT images will not be viewable.\nThe file, `.pylidcrc`, should exist in C:\\Users\\Xinke. This file should have format:\n\n[dicom]\npath = /path/to/dicom/data/LIDC-IDRI\nwarn = True\n\nSet `warn` to `False` to suppress this message.\n"
     ]
    }
   ],
   "source": [
    "for file in files:\n",
    "            with open(os.path.join(luna_data,file),'r') as f:\n",
    "                content = f.readlines()\n",
    "                id = file.split('.mhd')[0]\n",
    "                filename = '0'*(3-len(str(id)))+str(id)\n",
    "                content[-1]='ElementDataFile = '+filename+'.raw\\n'\n",
    "                print(content[-1])\n",
    "            with open(os.path.join(luna_data,file),'w') as f:\n",
    "                f.writelines(content)"
   ]
  },
  {
   "cell_type": "code",
   "execution_count": null,
   "metadata": {
    "collapsed": true
   },
   "outputs": [],
   "source": []
  }
 ],
 "metadata": {
  "anaconda-cloud": {},
  "kernelspec": {
   "display_name": "Python [conda root]",
   "language": "python",
   "name": "conda-root-py"
  },
  "language_info": {
   "codemirror_mode": {
    "name": "ipython",
    "version": 3
   },
   "file_extension": ".py",
   "mimetype": "text/x-python",
   "name": "python",
   "nbconvert_exporter": "python",
   "pygments_lexer": "ipython3",
   "version": "3.5.2"
  }
 },
 "nbformat": 4,
 "nbformat_minor": 1
}
