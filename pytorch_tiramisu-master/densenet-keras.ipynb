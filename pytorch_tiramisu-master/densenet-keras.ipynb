{
 "cells": [
  {
   "cell_type": "code",
   "execution_count": 1,
   "metadata": {
    "collapsed": false
   },
   "outputs": [
    {
     "name": "stderr",
     "output_type": "stream",
     "text": [
      "Using TensorFlow backend.\n",
      "/home/jhoward/anaconda3/lib/python3.6/site-packages/sklearn/cross_validation.py:44: DeprecationWarning: This module was deprecated in version 0.18 in favor of the model_selection module into which all the refactored classes and functions are moved. Also note that the interface of the new CV iterators are different from that of this module. This module will be removed in 0.20.\n",
      "  \"This module will be removed in 0.20.\", DeprecationWarning)\n"
     ]
    }
   ],
   "source": [
    "%matplotlib inline\n",
    "import importlib\n",
    "import utils2; importlib.reload(utils2)\n",
    "from utils2 import *"
   ]
  },
  {
   "cell_type": "code",
   "execution_count": 2,
   "metadata": {
    "collapsed": true
   },
   "outputs": [],
   "source": [
    "limit_mem()"
   ]
  },
  {
   "cell_type": "code",
   "execution_count": 9,
   "metadata": {
    "collapsed": true
   },
   "outputs": [],
   "source": [
    "from keras.datasets.cifar10 import load_batch"
   ]
  },
  {
   "cell_type": "markdown",
   "metadata": {},
   "source": [
    "# Densenet / CIFAR 10"
   ]
  },
  {
   "cell_type": "markdown",
   "metadata": {},
   "source": [
    "From http://www.cs.toronto.edu/~kriz/cifar-10-python.tar.gz"
   ]
  },
  {
   "cell_type": "code",
   "execution_count": 14,
   "metadata": {
    "collapsed": true
   },
   "outputs": [],
   "source": [
    "def load_data():\n",
    "    path = 'data/cifar-10-batches-py'\n",
    "    num_train_samples = 50000\n",
    "    x_train = np.zeros((num_train_samples, 3, 32, 32), dtype='uint8')\n",
    "    y_train = np.zeros((num_train_samples,), dtype='uint8')\n",
    "    for i in range(1, 6):\n",
    "        data, labels = load_batch(os.path.join(path, 'data_batch_' + str(i)))\n",
    "        x_train[(i - 1) * 10000: i * 10000, :, :, :] = data\n",
    "        y_train[(i - 1) * 10000: i * 10000] = labels\n",
    "    x_test, y_test = load_batch(os.path.join(path, 'test_batch'))\n",
    "    y_train = np.reshape(y_train, (len(y_train), 1))\n",
    "    y_test = np.reshape(y_test, (len(y_test), 1))\n",
    "    x_train = x_train.transpose(0, 2, 3, 1)\n",
    "    x_test = x_test.transpose(0, 2, 3, 1)\n",
    "    return (x_train, y_train), (x_test, y_test)"
   ]
  },
  {
   "cell_type": "code",
   "execution_count": 13,
   "metadata": {
    "collapsed": false
   },
   "outputs": [],
   "source": [
    "(x_train, y_train), (x_test, y_test) = load_data()"
   ]
  },
  {
   "cell_type": "code",
   "execution_count": 17,
   "metadata": {
    "collapsed": false
   },
   "outputs": [
    {
     "data": {
      "text/plain": [
       "<matplotlib.image.AxesImage at 0x7f4eb4207b38>"
      ]
     },
     "execution_count": 17,
     "metadata": {},
     "output_type": "execute_result"
    },
    {
     "data": {
      "image/png": "[encoded data removed]",
      "text/plain": [
       "<matplotlib.figure.Figure at 0x7f4eb4296c18>"
      ]
     },
     "metadata": {},
     "output_type": "display_data"
    }
   ],
   "source": [
    "plt.imshow(x_train[1])"
   ]
  },
  {
   "cell_type": "code",
   "execution_count": 65,
   "metadata": {
    "collapsed": false,
    "deletable": true,
    "editable": true
   },
   "outputs": [],
   "source": [
    "x_train = x_train/255.\n",
    "x_test = x_test/255."
   ]
  },
  {
   "cell_type": "markdown",
   "metadata": {},
   "source": [
    "## Densenet"
   ]
  },
  {
   "cell_type": "code",
   "execution_count": 112,
   "metadata": {
    "collapsed": true
   },
   "outputs": [],
   "source": [
    "def relu(x): return Activation('relu')(x)\n",
    "def dropout(x, p): return Dropout(p)(x) if p else x\n",
    "def bn(x, wd): return BatchNormalization(mode=0, axis=-1, \n",
    "                                     gamma_regularizer=l2(0), beta_regularizer=l2(0))(x)\n",
    "def relu_bn(x, wd): return relu(bn(x, wd))\n",
    "def conv(x, nf, sz, wd): \n",
    "    return Convolution2D(nf, sz, sz, init='he_uniform', border_mode='same', \n",
    "                          W_regularizer=l2(wd))(x)"
   ]
  },
  {
   "cell_type": "code",
   "execution_count": 113,
   "metadata": {
    "collapsed": true
   },
   "outputs": [],
   "source": [
    "def conv_block(ip, nb_filter, bottleneck=False, p=None, wd=0):\n",
    "    x = relu_bn(ip, wd)\n",
    "    if bottleneck:\n",
    "        x = conv(x, nb_filter * 4, 1, wd)\n",
    "        x = dropout(x,p)\n",
    "        x = relu_bn(x, wd)\n",
    "    x = conv(x, nb_filter, 3, wd)\n",
    "    return dropout(x,p)"
   ]
  },
  {
   "cell_type": "code",
   "execution_count": 114,
   "metadata": {
    "collapsed": true
   },
   "outputs": [],
   "source": [
    "def transition_block(ip, nb_filter, compression=1.0, p=None, wd=0):\n",
    "    x = relu_bn(ip, wd)\n",
    "    x = conv(x, int(nb_filter * compression), 1, wd)\n",
    "    x = dropout(x,p)\n",
    "    return AveragePooling2D((2, 2), strides=(2, 2))(x)"
   ]
  },
  {
   "cell_type": "code",
   "execution_count": 115,
   "metadata": {
    "collapsed": true
   },
   "outputs": [],
   "source": [
    "def dense_block(x, nb_layers, nb_filter, growth_rate, bottleneck=False, p=None, wd=0,\n",
    "                  grow_nb_filters=True):\n",
    "    for i in range(nb_layers):\n",
    "        b = conv_block(x, growth_rate, bottleneck, p, wd)\n",
    "        x = merge([x,b], mode='concat', concat_axis=-1)\n",
    "        if grow_nb_filters: nb_filter += growth_rate\n",
    "\n",
    "    return x, nb_filter"
   ]
  },
  {
   "cell_type": "markdown",
   "metadata": {
    "heading_collapsed": true
   },
   "source": [
    "### Build the DenseNet model"
   ]
  },
  {
   "cell_type": "markdown",
   "metadata": {
    "hidden": true
   },
   "source": [
    "- nb_classes: number of classes\n",
    "- img_input: tuple of shape (channels, rows, columns) or (rows, columns, channels)\n",
    "- depth: number or layers\n",
    "- nb_dense_block: number of dense blocks to add to end (generally = 3)\n",
    "- growth_rate: number of filters to add per dense block\n",
    "- nb_filter:  initial number of filters. Default -1 indicates initial number of filters is 2 * growth_rate\n",
    "- nb_layers_per_block: number of layers in each dense block.\n",
    "  - Can be a -1, positive integer or a list.\n",
    "  - If -1, calculates nb_layer_per_block from the depth of the network.\n",
    "  - If positive integer, a set number of layers per dense block.\n",
    "  - If list, nb_layer is used as provided. Note that list size must be (nb_dense_block + 1)\n",
    "- bottleneck: add bottleneck blocks\n",
    "- reduction:  reduction factor of transition blocks.  Note : reduction value is inverted to compute compression\n",
    "- p: dropout rate\n",
    "- wd: weight decay\n",
    "- activation: Type of activation at the top layer. Can be one of 'softmax' or 'sigmoid'. Note that if sigmoid is used, classes must be 1.\n",
    "\n",
    "Returns: keras tensor with nb_layers of conv_block appended"
   ]
  },
  {
   "cell_type": "code",
   "execution_count": 116,
   "metadata": {
    "collapsed": true,
    "hidden": true
   },
   "outputs": [],
   "source": [
    "def create_dense_net(nb_classes, img_input, depth=40, nb_dense_block=3, \n",
    "     growth_rate=12, nb_filter=-1, nb_layers_per_block=-1, bottleneck=False, \n",
    "     reduction=0.0, p=None, wd=0, activation='softmax'):\n",
    "\n",
    "    concat_axis = -1\n",
    "    assert (depth - 4) % 3 == 0, \"Depth must be 3 N + 4\"\n",
    "    if reduction != 0.0: assert reduction <= 1.0 and reduction > 0.0\n",
    "\n",
    "    if type(nb_layers_per_block) is list or type(nb_layers_per_block) is tuple:\n",
    "        nb_layers = list(nb_layers_per_block)  # Convert tuple to list\n",
    "        assert len(nb_layers) == (nb_dense_block + 1)\n",
    "        final_nb_layer = nb_layers[-1]\n",
    "        nb_layers = nb_layers[:-1]\n",
    "    else:\n",
    "        if nb_layers_per_block == -1:\n",
    "            count = int((depth - 4) / 3)\n",
    "            nb_layers = [count for _ in range(nb_dense_block)]\n",
    "            final_nb_layer = count\n",
    "        else:\n",
    "            final_nb_layer = nb_layers_per_block\n",
    "            nb_layers = [nb_layers_per_block] * nb_dense_block\n",
    "\n",
    "    if bottleneck: nb_layers = [int(layer // 2) for layer in nb_layers]\n",
    "    if nb_filter <= 0: nb_filter = 2 * growth_rate\n",
    "    compression = 1.0 - reduction\n",
    "\n",
    "    x = conv(img_input, nb_filter, 3, wd)\n",
    "    for block_idx in range(nb_dense_block - 1):\n",
    "        x, nb_filter = dense_block(x, nb_layers[block_idx], nb_filter, growth_rate, \n",
    "           bottleneck=bottleneck, p=p, wd=wd)\n",
    "        x = transition_block(x, nb_filter, compression=compression, p=p, wd=wd)\n",
    "        nb_filter = int(nb_filter * compression)\n",
    "\n",
    "    x, nb_filter = dense_block(x, final_nb_layer, nb_filter, growth_rate, \n",
    "       bottleneck=bottleneck, p=p, wd=wd)\n",
    "\n",
    "#     x = relu_bn(x, wd)\n",
    "    x = GlobalAveragePooling2D()(x)\n",
    "    \n",
    "    return Dense(nb_classes, activation=activation, \n",
    "                 W_regularizer=l2(wd), b_regularizer=l2(wd))(x)"
   ]
  },
  {
   "cell_type": "markdown",
   "metadata": {
    "collapsed": true,
    "deletable": true,
    "editable": true
   },
   "source": [
    "### Train"
   ]
  },
  {
   "cell_type": "code",
   "execution_count": 117,
   "metadata": {
    "collapsed": false
   },
   "outputs": [],
   "source": [
    "input_shape = (32,32,3)"
   ]
  },
  {
   "cell_type": "code",
   "execution_count": 118,
   "metadata": {
    "collapsed": true
   },
   "outputs": [],
   "source": [
    "img_input = Input(shape=input_shape)"
   ]
  },
  {
   "cell_type": "code",
   "execution_count": 125,
   "metadata": {
    "collapsed": false,
    "scrolled": false
   },
   "outputs": [],
   "source": [
    "x = create_dense_net(10, img_input, nb_filter=16, bottleneck=False, p=0.2, wd=1e-4)"
   ]
  },
  {
   "cell_type": "code",
   "execution_count": 126,
   "metadata": {
    "collapsed": false
   },
   "outputs": [],
   "source": [
    "model = Model(img_input, x)"
   ]
  },
  {
   "cell_type": "code",
   "execution_count": 134,
   "metadata": {
    "collapsed": false
   },
   "outputs": [],
   "source": [
    "model.compile(loss='sparse_categorical_crossentropy', \n",
    "              optimizer=keras.optimizers.RMSprop(1e-3), metrics=[\"accuracy\"])"
   ]
  },
  {
   "cell_type": "code",
   "execution_count": 135,
   "metadata": {
    "collapsed": true
   },
   "outputs": [],
   "source": [
    "parms = {'verbose': 2, 'callbacks': [TQDMNotebookCallback(leave_inner=True)]}"
   ]
  },
  {
   "cell_type": "code",
   "execution_count": 131,
   "metadata": {
    "collapsed": true,
    "deletable": true,
    "editable": true
   },
   "outputs": [],
   "source": [
    "K.set_value(model.optimizer.lr, 1e-2)"
   ]
  },
  {
   "cell_type": "code",
   "execution_count": 136,
   "metadata": {
    "collapsed": false
   },
   "outputs": [
    {
     "name": "stdout",
     "output_type": "stream",
     "text": [
      "Train on 50000 samples, validate on 10000 samples\n",
      "Epoch 1/4\n",
      "249s - loss: 2.0307 - acc: 0.3524 - val_loss: 2.1280 - val_acc: 0.3150\n",
      "Epoch 2/4\n",
      "237s - loss: 1.4311 - acc: 0.5264 - val_loss: 1.6729 - val_acc: 0.5120\n",
      "Epoch 3/4\n",
      "233s - loss: 1.1746 - acc: 0.6239 - val_loss: 1.4312 - val_acc: 0.5790\n",
      "Epoch 4/4\n",
      "234s - loss: 1.0510 - acc: 0.6707 - val_loss: 1.7688 - val_acc: 0.5416\n"
     ]
    },
    {
     "data": {
      "text/plain": [
       "<keras.callbacks.History at 0x7f4d877d62e8>"
      ]
     },
     "execution_count": 136,
     "metadata": {},
     "output_type": "execute_result"
    }
   ],
   "source": [
    "model.fit(x_train, y_train, 64, 4, validation_data=(x_test, y_test), **parms)"
   ]
  },
  {
   "cell_type": "code",
   "execution_count": 144,
   "metadata": {
    "collapsed": true
   },
   "outputs": [],
   "source": [
    "K.set_value(model.optimizer.lr, 1e-4)"
   ]
  },
  {
   "cell_type": "code",
   "execution_count": 140,
   "metadata": {
    "collapsed": false,
    "deletable": true,
    "editable": true
   },
   "outputs": [
    {
     "name": "stdout",
     "output_type": "stream",
     "text": [
      "Train on 50000 samples, validate on 10000 samples\n",
      "Epoch 1/3\n",
      "233s - loss: 0.8462 - acc: 0.7535 - val_loss: 1.3700 - val_acc: 0.6523\n",
      "Epoch 2/3\n",
      "234s - loss: 0.7918 - acc: 0.7747 - val_loss: 1.3522 - val_acc: 0.6519\n",
      "Epoch 3/3\n",
      "237s - loss: 0.7494 - acc: 0.7937 - val_loss: 1.0653 - val_acc: 0.7269\n"
     ]
    },
    {
     "data": {
      "text/plain": [
       "<keras.callbacks.History at 0x7f4d866a9a90>"
      ]
     },
     "execution_count": 140,
     "metadata": {},
     "output_type": "execute_result"
    }
   ],
   "source": [
    "model.fit(x_train, y_train, 64, 3, validation_data=(x_test, y_test), **parms)"
   ]
  },
  {
   "cell_type": "code",
   "execution_count": 142,
   "metadata": {
    "collapsed": false,
    "deletable": true,
    "editable": true
   },
   "outputs": [
    {
     "name": "stdout",
     "output_type": "stream",
     "text": [
      "Train on 50000 samples, validate on 10000 samples\n",
      "Epoch 1/10\n",
      "236s - loss: 0.7201 - acc: 0.8061 - val_loss: 2.1070 - val_acc: 0.5764\n",
      "Epoch 2/10\n",
      "237s - loss: 0.6874 - acc: 0.8172 - val_loss: 1.7922 - val_acc: 0.6083\n",
      "Epoch 3/10\n",
      "237s - loss: 0.6680 - acc: 0.8250 - val_loss: 0.9055 - val_acc: 0.7550\n",
      "Epoch 4/10\n",
      "237s - loss: 0.6486 - acc: 0.8336 - val_loss: 0.9493 - val_acc: 0.7580\n",
      "Epoch 5/10\n",
      "237s - loss: 0.6279 - acc: 0.8423 - val_loss: 0.9391 - val_acc: 0.7659\n",
      "Epoch 6/10\n",
      "237s - loss: 0.6119 - acc: 0.8484 - val_loss: 0.8636 - val_acc: 0.7873\n",
      "Epoch 7/10\n",
      "236s - loss: 0.5997 - acc: 0.8531 - val_loss: 1.2927 - val_acc: 0.7192\n",
      "Epoch 8/10\n",
      "237s - loss: 0.5879 - acc: 0.8568 - val_loss: 1.2210 - val_acc: 0.7101\n",
      "Epoch 9/10\n",
      "237s - loss: 0.5793 - acc: 0.8621 - val_loss: 0.9683 - val_acc: 0.7615\n",
      "Epoch 10/10\n",
      "237s - loss: 0.5672 - acc: 0.8669 - val_loss: 0.7721 - val_acc: 0.8215\n"
     ]
    },
    {
     "data": {
      "text/plain": [
       "<keras.callbacks.History at 0x7f4d866f2f28>"
      ]
     },
     "execution_count": 142,
     "metadata": {},
     "output_type": "execute_result"
    }
   ],
   "source": [
    "model.fit(x_train, y_train, 64, 10, validation_data=(x_test, y_test), **parms)"
   ]
  },
  {
   "cell_type": "code",
   "execution_count": null,
   "metadata": {
    "collapsed": false,
    "deletable": true,
    "editable": true
   },
   "outputs": [
    {
     "name": "stdout",
     "output_type": "stream",
     "text": [
      "Train on 50000 samples, validate on 10000 samples\n",
      "Epoch 1/10\n",
      "237s - loss: 0.4429 - acc: 0.9095 - val_loss: 0.5508 - val_acc: 0.8828\n",
      "Epoch 2/10\n",
      "237s - loss: 0.4101 - acc: 0.9196 - val_loss: 0.5338 - val_acc: 0.8869\n",
      "Epoch 3/10\n",
      "237s - loss: 0.3964 - acc: 0.9237 - val_loss: 0.5840 - val_acc: 0.8782\n",
      "Epoch 4/10\n",
      "237s - loss: 0.3830 - acc: 0.9281 - val_loss: 0.5715 - val_acc: 0.8820\n",
      "Epoch 5/10\n"
     ]
    }
   ],
   "source": [
    "model.fit(x_train, y_train, 64, 10, validation_data=(x_test, y_test), **parms)"
   ]
  },
  {
   "cell_type": "code",
   "execution_count": 143,
   "metadata": {
    "collapsed": true,
    "deletable": true,
    "editable": true
   },
   "outputs": [],
   "source": [
    "model.save_weights('models/8215.h5')"
   ]
  },
  {
   "cell_type": "markdown",
   "metadata": {
    "heading_collapsed": true
   },
   "source": [
    "## End"
   ]
  },
  {
   "cell_type": "code",
   "execution_count": null,
   "metadata": {
    "collapsed": true,
    "hidden": true
   },
   "outputs": [],
   "source": []
  }
 ],
 "metadata": {
  "kernelspec": {
   "display_name": "Python [conda root]",
   "language": "python",
   "name": "conda-root-py"
  },
  "language_info": {
   "codemirror_mode": {
    "name": "ipython",
    "version": 3
   },
   "file_extension": ".py",
   "mimetype": "text/x-python",
   "name": "python",
   "nbconvert_exporter": "python",
   "pygments_lexer": "ipython3",
   "version": "3.6.0"
  },
  "widgets": {
   "state": {
    "01e45dca7adc462bab108b5d452fde5c": {
     "views": [
      {
       "cell_index": 28
      }
     ]
    },
    "08f18494744a4cb29b8778cf8388fcf8": {
     "views": [
      {
       "cell_index": 29
      }
     ]
    },
    "0fa550af1d0f4768abcef515168a20ef": {
     "views": [
      {
       "cell_index": 29
      }
     ]
    },
    "2602694994af4be6b301b0cc038632e3": {
     "views": [
      {
       "cell_index": 25
      }
     ]
    },
    "2b21fc34a3b44dc4b288cfb3b933d382": {
     "views": [
      {
       "cell_index": 30
      }
     ]
    },
    "3db8c90c12004072ae5fd788fe78ddc6": {
     "views": [
      {
       "cell_index": 25
      }
     ]
    },
    "44a5c199677a423780bb952eeb0c6b30": {
     "views": [
      {
       "cell_index": 29
      }
     ]
    },
    "4871f0d55609416db1aa848073c83a5a": {
     "views": [
      {
       "cell_index": 25
      }
     ]
    },
    "4dff02dda2e9443189aea806055ec553": {
     "views": [
      {
       "cell_index": 25
      }
     ]
    },
    "6e16ef3af5794abba09859ca3e726c3d": {
     "views": [
      {
       "cell_index": 25
      }
     ]
    },
    "768b88d8d2674fe58c3c25c9e243c3ac": {
     "views": [
      {
       "cell_index": 27
      }
     ]
    },
    "7b38d836efd349008895c7e5f25104ca": {
     "views": [
      {
       "cell_index": 30
      }
     ]
    },
    "823acd72efc94833b143d26980fa1ecd": {
     "views": [
      {
       "cell_index": 25
      }
     ]
    },
    "879024249b0444cb8391304961211e24": {
     "views": [
      {
       "cell_index": 28
      }
     ]
    },
    "988c05a5b00b4251b7f003a2abf236bd": {
     "views": [
      {
       "cell_index": 25
      }
     ]
    },
    "9eada3fc3b8a4a78ae076685076d98f9": {
     "views": [
      {
       "cell_index": 30
      }
     ]
    },
    "a6d9710fe2c046228102910df55ad23c": {
     "views": [
      {
       "cell_index": 29
      }
     ]
    },
    "b12f890743754fecaf078613ae6e7eb6": {
     "views": [
      {
       "cell_index": 29
      }
     ]
    },
    "b4e8ea7936c74df4b73dd4b44491c38d": {
     "views": [
      {
       "cell_index": 30
      }
     ]
    },
    "b6c91d2acc134593ae5712b13c5c4973": {
     "views": [
      {
       "cell_index": 25
      }
     ]
    },
    "ba7c2df8fa6f43ffb549cb9fd9afc7f9": {
     "views": [
      {
       "cell_index": 29
      }
     ]
    },
    "bcc5d138f74c48738b6d83b19e741ece": {
     "views": [
      {
       "cell_index": 29
      }
     ]
    },
    "c456aa3c87684914ae0d851b730e7be2": {
     "views": [
      {
       "cell_index": 29
      }
     ]
    },
    "f3fe66841ca5487cb8c1899ebcbd25c1": {
     "views": [
      {
       "cell_index": 30
      }
     ]
    },
    "fd43337091474bd39db9608cb6e056e2": {
     "views": [
      {
       "cell_index": 27
      }
     ]
    }
   },
   "version": "1.2.0"
  }
 },
 "nbformat": 4,
 "nbformat_minor": 2
}
